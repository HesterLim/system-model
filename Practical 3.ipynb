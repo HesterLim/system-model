{
 "cells": [
  {
   "cell_type": "markdown",
   "metadata": {},
   "source": [
    "# Practical 3 - EVSC20007 Modelling the Real World: Systems Models"
   ]
  },
  {
   "cell_type": "markdown",
   "metadata": {},
   "source": [
    "## Preliminary reading\n",
    "Before attempting this practical, make sure you have reviewed and are familiar with the following material:\n",
    "- Lecture 8 (Epidemiological modelling)\n",
    "- Workshop, Week 3\n",
    "- Practical 1 (Week 4)"
   ]
  },
  {
   "cell_type": "markdown",
   "metadata": {},
   "source": [
    "## The Zombie apocalypse\n",
    "<img src=\"zombie.png\" width=\"25%\" align=\"center\"> </img>\n",
    "\n",
    "The zombie apocalypse has started in the real world, and we are concerned about the short-term survival of the human race. We need you to build a model to prevent it from ending the human race in the real world.  Although the details of a zombie infection vary from outbreak to outbreak, the common characteristics are: \n",
    "- An outbreak begins when a small number of zombies appear in an otherwise susceptible population. The reports we have suggest there are currently 42 zombies in Canberra, which has a population of 400,000 humans. \n",
    "- A human becomes a zombie on average 3 days after being bitten by a zombie. \n",
    "- The only way that a zombie can be killed is by a human destroying its brain.  \n",
    "- When a zombie encounters a human, they fight, ending in either the human being bitten or the zombie’s brain being destroyed. \n",
    "- From the initial reports, it seems a zombie is biting on average 4 humans before being destroyed. \n",
    "- On average, a specific zombie will encounter a specific uninfected human once every 100 days."
   ]
  },
  {
   "cell_type": "markdown",
   "metadata": {},
   "source": [
    "## Assignment tasks"
   ]
  },
  {
   "cell_type": "markdown",
   "metadata": {},
   "source": [
    "### Question 1 [25 marks]\n",
    "Think about what is needed to build this model:"
   ]
  },
  {
   "cell_type": "markdown",
   "metadata": {},
   "source": [
    "*a. Refine the question to answer with your model and restate it in your own words.*"
   ]
  },
  {
   "cell_type": "markdown",
   "metadata": {},
   "source": [
    "- How many individulas are projected to be infected?\n",
    "- How many zombies are projected?\n",
    "- How long does it take for human to meet a zombie and get infected?\n",
    "- How many zombies are going to die?"
   ]
  },
  {
   "cell_type": "markdown",
   "metadata": {},
   "source": [
    "*b. What compartments will we need for this model? What are your dependent and independent variables?*  "
   ]
  },
  {
   "cell_type": "markdown",
   "metadata": {},
   "source": [
    "Compartments needed are:\n",
    "- Human\n",
    "- Zombie\n",
    "- Dead Zombie"
   ]
  },
  {
   "cell_type": "markdown",
   "metadata": {},
   "source": [
    "Independent variable : \n",
    "- time,t"
   ]
  },
  {
   "cell_type": "markdown",
   "metadata": {},
   "source": [
    "Dependent variable:\n",
    "- Human Population\n",
    "- Zombie Population\n",
    "- Number of Zombie dies"
   ]
  },
  {
   "cell_type": "markdown",
   "metadata": {},
   "source": [
    "*c. How is the infection transmitted? How do zombies become ‘removed’? What parameters are needed?*"
   ]
  },
  {
   "cell_type": "markdown",
   "metadata": {},
   "source": [
    "Infection transmitted:\n",
    "- When a human encounters a zombie and being bitten by it which average every 100 days "
   ]
  },
  {
   "cell_type": "markdown",
   "metadata": {},
   "source": [
    "Zombie become 'removed':\n",
    "- When a zombie's brain is destroyed by human, this average every 400 days since a zombie's brain is destroyed after 4 humans and it takes 100 days for a zombie to meet a human"
   ]
  },
  {
   "cell_type": "markdown",
   "metadata": {},
   "source": [
    "Parameter needed: \n",
    "- Rate of infection (Human encounters and zombie and being beaten)\n",
    "- Rate of recovery (Zombie's brain is destroyed)"
   ]
  },
  {
   "cell_type": "markdown",
   "metadata": {},
   "source": [
    "*d. What types of interventions might work here? Which variables or parameters \n",
    "might they affect?*"
   ]
  },
  {
   "cell_type": "markdown",
   "metadata": {},
   "source": [
    "Intervention might work: \n",
    "- destroying all the zombie's brain and all the human turning into zombies brain\n",
    "- Kill all the zombie before it meets the first human (i.e before 100 days)\n",
    "- Develop a vaccine for human before the first zombie and human encounter (i.e before 100 days)"
   ]
  },
  {
   "cell_type": "markdown",
   "metadata": {},
   "source": [
    "The variables/paramters might they effect:-\n",
    "- rate of infection\n",
    "- rate of recovery\n",
    "- number of human\n",
    "- number of zombie\n",
    "- number of zombie dies"
   ]
  },
  {
   "cell_type": "markdown",
   "metadata": {},
   "source": [
    "### Question 2 [25 marks]\n",
    "Draw a schematic diagram for your model (referred to as compartmental models in lectures), and write down explicit mathematical expressions for the compartment transitions (e.g. a system of ODEs). There are multiple plausible good models for this part - but you should explain your model, and argue for any assumptions you have made.  "
   ]
  },
  {
   "cell_type": "markdown",
   "metadata": {},
   "source": [
    "- N is the total number of individuals in the populations\n",
    "- S is the number of human population\n",
    "- I is the number of zombie population\n",
    "- R is the number of zombie dies\n",
    "- b is the rate of infection\n",
    "- g is the rate of recovery\n",
    "- Transitions between compartments are dependent on the number of human and zombie individuals\n",
    "- Population is well-mixed\n",
    "- Every individuals has similar transition properties\n",
    "- infection rate, recovery rate are constant\n",
    "- N is constant (birth rate equal to death rate,m) "
   ]
  },
  {
   "cell_type": "markdown",
   "metadata": {},
   "source": [
    "Mathematical equations: \n",
    "- dS/dt = - (b*S*I) / N\n",
    "- dI/dt = (b*S*I)/N - g*I\n",
    "- dR/dt = g*I\n",
    "- N = S + I + R"
   ]
  },
  {
   "cell_type": "markdown",
   "metadata": {},
   "source": [
    "Explanation / Assumption of model:\n",
    "- It takes on average 100 days for human to encounter a zombie and successfully being bitten by it. The time it takes for human to become zombie is considered negligible\n",
    "- It takes on average 400 days for zombie's brain is destroyed and died\n",
    "- Zombies will only die and there is no vaccine and immunization for zombies to 'recover'\n",
    "- There is no migration that takes places.\n",
    "- There is no drastic public measure i.e goverment intervention to curb the zombie outbreak."
   ]
  },
  {
   "cell_type": "markdown",
   "metadata": {},
   "source": [
    "### Question 3 [30 marks]\n",
    "Explore your model using techniques from this subject, including computationally (or analytically) where appropriate. You may find it helpful to use the code below, or adapt code from previous lectures or workshops."
   ]
  },
  {
   "cell_type": "markdown",
   "metadata": {},
   "source": [
    "*a. What will happen to the populations of humans and zombies in the next 2 years?*"
   ]
  },
  {
   "cell_type": "code",
   "execution_count": 95,
   "metadata": {},
   "outputs": [],
   "source": [
    "import numpy as np\n",
    "from scipy.integrate import odeint\n",
    "\n",
    "class DeterministicSIR():\n",
    "    def __init__(self,\n",
    "                 infection_rate=1,\n",
    "                 recovery_rate=1,\n",
    "                 population_size=1000):\n",
    "        self.infection_rate = infection_rate\n",
    "        self.recovery_rate = recovery_rate\n",
    "        self.population_size = population_size\n",
    "        \n",
    "    def rates_of_change(self, states):\n",
    "        beta = self.infection_rate\n",
    "        gamma = self.recovery_rate\n",
    "        N = self.population_size\n",
    "        \n",
    "        S = states[0]\n",
    "        I = states[1]\n",
    "        R = N-S-I # calculate R from S and I\n",
    "        \n",
    "        dSdt = -beta*S*I/N\n",
    "        dIdt = beta*S*I/N - gamma*I\n",
    "        \n",
    "        return np.array([dSdt,dIdt])\n",
    "    \n",
    "    def simulate(self, S0, I0, t):\n",
    "        def f(x,T): return self.rates_of_change(x)\n",
    "        x0 = np.array([S0, I0])\n",
    "        sol = odeint(f, x0, t)\n",
    "        \n",
    "        S = sol[:,0]\n",
    "        I = sol[:,1]\n",
    "        R = self.population_size - S - I\n",
    "        \n",
    "        return (S, I, R)"
   ]
  },
  {
   "cell_type": "code",
   "execution_count": 101,
   "metadata": {},
   "outputs": [
    {
     "data": {
      "image/png": "[encoded data removed]",
      "text/plain": [
       "<Figure size 432x288 with 1 Axes>"
      ]
     },
     "metadata": {
      "needs_background": "light"
     },
     "output_type": "display_data"
    }
   ],
   "source": [
    "from matplotlib import pyplot as plt\n",
    "\n",
    "model = DeterministicSIR(infection_rate = 1/100, # How long does it take for Zombie to infect human\n",
    "                         recovery_rate = 1/400, # How long does it take for Zombie to die\n",
    "                         population_size = 400000) # Initial Human Population\n",
    "\n",
    "\n",
    "t = np.linspace(0,730,1001) # 2 years = 730 days\n",
    "I0 = 42 # Initial Zombie Population\n",
    "S0 = model.population_size - I0\n",
    "(S,I,R) = model.simulate(S0, I0, t)\n",
    "\n",
    "\n",
    "def plot_results(t,S,I,R):\n",
    "    fig = plt.figure()\n",
    "    plt.plot(t, S, label=\"Human\")\n",
    "    plt.plot(t, I, color=\"C3\", label=\"Zombie\")\n",
    "    plt.plot(t, R, color=\"C2\", label=\"Dead Zombie\")\n",
    "    plt.xlabel(\"Days from outbreak\")\n",
    "    plt.ylabel(\"Population\")\n",
    "    plt.title('Population vs Days from outbreak')\n",
    "    plt.legend()\n",
    "    return fig\n",
    "\n",
    "fig = plot_results(t,S,I,R)"
   ]
  },
  {
   "cell_type": "markdown",
   "metadata": {},
   "source": [
    "Discussion:\n",
    "- The outbreak is not fatal it the 2 years period (730 days) since it takes 100 days for human to encounter a zombie and to be bitten by it.\n",
    "- There is only sign of human turning into zombie (i.e the human population decreasing while zombie population increasing) after 600 days.\n",
    "- number of dead zombie stayed relatively constant throughout the two years"
   ]
  },
  {
   "cell_type": "markdown",
   "metadata": {},
   "source": [
    "*b. What strategies might be most effective to combat the zombie epidemic?*"
   ]
  },
  {
   "cell_type": "markdown",
   "metadata": {},
   "source": [
    "- destroying all the zombie's brain and all the human turning into zombie's brain\n",
    "- Kill all the zombie before it meets the first human (i.e before 100 days)\n",
    "- Develop a vaccine for human before the first zombie and human encounter (i.e before 100 days)\n",
    "- There is wide public measure i.e government intervention to seperate the human and zombie before 100 days."
   ]
  },
  {
   "cell_type": "markdown",
   "metadata": {},
   "source": [
    "### Question 4 [20 marks]\n",
    "Discuss how your model might change to consider the following new pieces of information, and explore the effect on your answers to part 2. In particular, make sure you discuss how the schematic diagram, equations and variables would change."
   ]
  },
  {
   "cell_type": "markdown",
   "metadata": {},
   "source": [
    "*a. We’ve managed to survive the short-term, but are concerned about the long-term survival of the human race.*"
   ]
  },
  {
   "cell_type": "code",
   "execution_count": 102,
   "metadata": {},
   "outputs": [
    {
     "data": {
      "image/png": "[encoded data removed]",
      "text/plain": [
       "<Figure size 432x288 with 1 Axes>"
      ]
     },
     "metadata": {
      "needs_background": "light"
     },
     "output_type": "display_data"
    }
   ],
   "source": [
    "from matplotlib import pyplot as plt\n",
    "\n",
    "model = DeterministicSIR(infection_rate = 1/100,\n",
    "                         recovery_rate = 1/400,\n",
    "                         population_size = 400000)\n",
    "\n",
    "\n",
    "t = np.linspace(0,3650,1001) # 3650 days = 10 years.\n",
    "I0 = 42\n",
    "S0 = model.population_size - I0\n",
    "(S,I,R) = model.simulate(S0, I0, t)\n",
    "\n",
    "\n",
    "def plot_results(t,S,I,R):\n",
    "    fig = plt.figure()\n",
    "    plt.plot(t, S, label=\"Human\")\n",
    "    plt.plot(t, I, color=\"C3\", label=\"Zombie\")\n",
    "    plt.plot(t, R, color=\"C2\", label=\"Dead-Zombie\")\n",
    "    plt.xlabel(\"Days from outbreak\")\n",
    "    plt.ylabel(\"Population\")\n",
    "    plt.title(\"Population vs Days from outbreak\")\n",
    "    plt.legend()\n",
    "    return fig\n",
    "\n",
    "fig = plot_results(t,S,I,R)"
   ]
  },
  {
   "cell_type": "markdown",
   "metadata": {},
   "source": [
    "Discussion:\n",
    "- The number of human being decrease exponentially in a 10 year period\n",
    "- The number of zombie increase exponentially during the 500th day and reached the highest point at around 1250th days and then decrease exponentially afterwards\n",
    "- The number of dead zombie represent a S-curve where the number of dead zombie increase exponentially around 1000th and stagnates at 2500th day to 3500th day.\n",
    "- The entire population of human and zombie in the area will extinct after 10 years."
   ]
  },
  {
   "cell_type": "markdown",
   "metadata": {},
   "source": [
    "*b. A vaccine is developed that prevents bites from infecting humans.*"
   ]
  },
  {
   "cell_type": "markdown",
   "metadata": {},
   "source": [
    "Effect of vaccine:\n",
    "- rate of infection becomes zero"
   ]
  },
  {
   "cell_type": "code",
   "execution_count": 103,
   "metadata": {},
   "outputs": [
    {
     "data": {
      "image/png": "[encoded data removed]",
      "text/plain": [
       "<Figure size 432x288 with 1 Axes>"
      ]
     },
     "metadata": {
      "needs_background": "light"
     },
     "output_type": "display_data"
    }
   ],
   "source": [
    "from matplotlib import pyplot as plt\n",
    "\n",
    "model = DeterministicSIR(infection_rate = 0, #if vaccine is developed before zombie meets a human (i.e 100 days)\n",
    "                         recovery_rate = 1/400,\n",
    "                         population_size = 400000)\n",
    "\n",
    "\n",
    "t = np.linspace(0,3650,1001) # 3650 days = 10 years.\n",
    "I0 = 42\n",
    "S0 = model.population_size - I0\n",
    "(S,I,R) = model.simulate(S0, I0, t)\n",
    "\n",
    "\n",
    "def plot_results(t,S,I,R):\n",
    "    fig = plt.figure()\n",
    "    plt.plot(t, S, label=\"Human\")\n",
    "    plt.plot(t, I, color=\"C3\", label=\"Zombie\")\n",
    "    plt.plot(t, R, color=\"C2\", label=\"Dead-Zombie\")\n",
    "    plt.xlabel(\"Days from outbreak\")\n",
    "    plt.ylabel(\"Population\")\n",
    "    plt.title(\"Population vs Days from outbreak\")\n",
    "    plt.legend()\n",
    "    return fig\n",
    "\n",
    "fig = plot_results(t,S,I,R)"
   ]
  },
  {
   "cell_type": "markdown",
   "metadata": {},
   "source": [
    "Discussion: \n",
    "- The number of human is unaffected and stay constant\n",
    "- The number of Zombie is unaffected and stay constant \n",
    "- The number of dead zombie is unaffected and stay constant\n",
    "- A zombie apocalypse is prevented."
   ]
  }
 ],
 "metadata": {
  "kernelspec": {
   "display_name": "Python 3",
   "language": "python",
   "name": "python3"
  },
  "language_info": {
   "codemirror_mode": {
    "name": "ipython",
    "version": 3
   },
   "file_extension": ".py",
   "mimetype": "text/x-python",
   "name": "python",
   "nbconvert_exporter": "python",
   "pygments_lexer": "ipython3",
   "version": "3.6.9"
  }
 },
 "nbformat": 4,
 "nbformat_minor": 4
}
